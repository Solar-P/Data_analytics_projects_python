{
 "cells": [
  {
   "cell_type": "markdown",
   "id": "bdd67bd5",
   "metadata": {},
   "source": [
    "# **Investigation of the bank's customer reliability**\n",
    "\n",
    "## **1. Scenario**"
   ]
  },
  {
   "cell_type": "markdown",
   "id": "1c7a81f1",
   "metadata": {},
   "source": [
    "The client, the bank's Credit Department, ordered a study. The goal is to determine whether the marital status and the number of children of the client affect the repayment of the credit card on time and without delay. "
   ]
  },
  {
   "cell_type": "markdown",
   "id": "2a5fa2c8",
   "metadata": {},
   "source": [
    "## **2. Ask**\n",
    "\n",
    "**Questions posed by the client:**\n",
    "\n",
    "* Is there a relationship between the number of children and repayment of the loan on time?\n",
    "* Is there a relationship between marital status and repayment of the loan on time?\n",
    "* Is there a relationship between income level and repayment of the loan on time?\n",
    "* How do the different objectives of the loan affect its repayment on time?"
   ]
  },
  {
   "cell_type": "markdown",
   "id": "ad5d6405",
   "metadata": {},
   "source": [
    "## **3. Prepare**\n",
    "\n",
    "### **3.1 Data for Analysis**\n",
    "\n",
    "I have a CSV file - clients_data.csv containing data about clients and if they were in debt. I do not have information about the quality of this data, so before answering the research questions and making a conclusion, I will need to review the data and probably clean it up.\n",
    "\n",
    "So the study will contain the following steps:\n",
    "\n",
    "1. Data review (Prepare)\n",
    "2. Data cleaning and processing (Process)\n",
    "3. Answers to research questions (Analyze)\n",
    "4. General conclusion (Share)"
   ]
  },
  {
   "cell_type": "markdown",
   "id": "ba6499c4",
   "metadata": {},
   "source": [
    "### **3.2 Data review**"
   ]
  },
  {
   "cell_type": "code",
   "execution_count": 1,
   "id": "ca83a530",
   "metadata": {},
   "outputs": [],
   "source": [
    "# import pandas and read CSV the file\n",
    "import pandas as pd\n",
    "\n",
    "data = pd.read_csv('clients_data.csv')"
   ]
  },
  {
   "cell_type": "code",
   "execution_count": null,
   "id": "e4b5bebe",
   "metadata": {},
   "outputs": [
    {
     "data": {
      "text/html": [
       "<div>\n",
       "<style scoped>\n",
       "    .dataframe tbody tr th:only-of-type {\n",
       "        vertical-align: middle;\n",
       "    }\n",
       "\n",
       "    .dataframe tbody tr th {\n",
       "        vertical-align: top;\n",
       "    }\n",
       "\n",
       "    .dataframe thead th {\n",
       "        text-align: right;\n",
       "    }\n",
       "</style>\n",
       "<table border=\"1\" class=\"dataframe\">\n",
       "  <thead>\n",
       "    <tr style=\"text-align: right;\">\n",
       "      <th></th>\n",
       "      <th>children</th>\n",
       "      <th>days_employed</th>\n",
       "      <th>dob_years</th>\n",
       "      <th>education</th>\n",
       "      <th>education_id</th>\n",
       "      <th>family_status</th>\n",
       "      <th>family_status_id</th>\n",
       "      <th>gender</th>\n",
       "      <th>income_type</th>\n",
       "      <th>debt</th>\n",
       "      <th>total_income</th>\n",
       "      <th>purpose</th>\n",
       "    </tr>\n",
       "  </thead>\n",
       "  <tbody>\n",
       "    <tr>\n",
       "      <th>0</th>\n",
       "      <td>1</td>\n",
       "      <td>-8437.673028</td>\n",
       "      <td>42</td>\n",
       "      <td>higher</td>\n",
       "      <td>0</td>\n",
       "      <td>married</td>\n",
       "      <td>0</td>\n",
       "      <td>F</td>\n",
       "      <td>employee</td>\n",
       "      <td>0</td>\n",
       "      <td>253875.639453</td>\n",
       "      <td>housing purchase</td>\n",
       "    </tr>\n",
       "    <tr>\n",
       "      <th>1</th>\n",
       "      <td>1</td>\n",
       "      <td>-4024.803754</td>\n",
       "      <td>36</td>\n",
       "      <td>secondary</td>\n",
       "      <td>1</td>\n",
       "      <td>married</td>\n",
       "      <td>0</td>\n",
       "      <td>F</td>\n",
       "      <td>employee</td>\n",
       "      <td>0</td>\n",
       "      <td>112080.014102</td>\n",
       "      <td>car purchase</td>\n",
       "    </tr>\n",
       "    <tr>\n",
       "      <th>2</th>\n",
       "      <td>0</td>\n",
       "      <td>-5623.422610</td>\n",
       "      <td>33</td>\n",
       "      <td>secondary</td>\n",
       "      <td>1</td>\n",
       "      <td>married</td>\n",
       "      <td>0</td>\n",
       "      <td>M</td>\n",
       "      <td>employee</td>\n",
       "      <td>0</td>\n",
       "      <td>145885.952297</td>\n",
       "      <td>housing purchase</td>\n",
       "    </tr>\n",
       "    <tr>\n",
       "      <th>3</th>\n",
       "      <td>3</td>\n",
       "      <td>-4124.747207</td>\n",
       "      <td>32</td>\n",
       "      <td>secondary</td>\n",
       "      <td>1</td>\n",
       "      <td>married</td>\n",
       "      <td>0</td>\n",
       "      <td>M</td>\n",
       "      <td>employee</td>\n",
       "      <td>0</td>\n",
       "      <td>267628.550329</td>\n",
       "      <td>additional education</td>\n",
       "    </tr>\n",
       "    <tr>\n",
       "      <th>4</th>\n",
       "      <td>0</td>\n",
       "      <td>340266.072047</td>\n",
       "      <td>53</td>\n",
       "      <td>secondary</td>\n",
       "      <td>1</td>\n",
       "      <td>civil marriage</td>\n",
       "      <td>1</td>\n",
       "      <td>F</td>\n",
       "      <td>retiree</td>\n",
       "      <td>0</td>\n",
       "      <td>158616.077870</td>\n",
       "      <td>wedding</td>\n",
       "    </tr>\n",
       "  </tbody>\n",
       "</table>\n",
       "</div>"
      ],
      "text/plain": [
       "   children  days_employed  dob_years  education  education_id  \\\n",
       "0         1   -8437.673028         42     higher             0   \n",
       "1         1   -4024.803754         36  secondary             1   \n",
       "2         0   -5623.422610         33  secondary             1   \n",
       "3         3   -4124.747207         32  secondary             1   \n",
       "4         0  340266.072047         53  secondary             1   \n",
       "\n",
       "    family_status  family_status_id gender income_type  debt   total_income  \\\n",
       "0         married                 0      F    employee     0  253875.639453   \n",
       "1         married                 0      F    employee     0  112080.014102   \n",
       "2         married                 0      M    employee     0  145885.952297   \n",
       "3         married                 0      M    employee     0  267628.550329   \n",
       "4  civil marriage                 1      F     retiree     0  158616.077870   \n",
       "\n",
       "                purpose  \n",
       "0      housing purchase  \n",
       "1          car purchase  \n",
       "2      housing purchase  \n",
       "3  additional education  \n",
       "4               wedding  "
      ]
     },
     "execution_count": 2,
     "metadata": {},
     "output_type": "execute_result"
    }
   ],
   "source": [
    "# Take a look at the first 5 lines of our data\n",
    "data.head()"
   ]
  },
  {
   "cell_type": "code",
   "execution_count": 3,
   "id": "108549e6",
   "metadata": {},
   "outputs": [
    {
     "name": "stdout",
     "output_type": "stream",
     "text": [
      "<class 'pandas.core.frame.DataFrame'>\n",
      "RangeIndex: 21525 entries, 0 to 21524\n",
      "Data columns (total 12 columns):\n",
      " #   Column            Non-Null Count  Dtype  \n",
      "---  ------            --------------  -----  \n",
      " 0   children          21525 non-null  int64  \n",
      " 1   days_employed     19351 non-null  float64\n",
      " 2   dob_years         21525 non-null  int64  \n",
      " 3   education         21525 non-null  object \n",
      " 4   education_id      21525 non-null  int64  \n",
      " 5   family_status     21525 non-null  object \n",
      " 6   family_status_id  21525 non-null  int64  \n",
      " 7   gender            21525 non-null  object \n",
      " 8   income_type       21525 non-null  object \n",
      " 9   debt              21525 non-null  int64  \n",
      " 10  total_income      19351 non-null  float64\n",
      " 11  purpose           21525 non-null  object \n",
      "dtypes: float64(2), int64(5), object(5)\n",
      "memory usage: 2.0+ MB\n"
     ]
    }
   ],
   "source": [
    "# Print the basic information about the dataframe\n",
    "data.info()"
   ]
  },
  {
   "cell_type": "markdown",
   "id": "785e1468",
   "metadata": {},
   "source": [
    "## **4. Process**\n",
    "\n",
    "### **4.1 Data cleaning**"
   ]
  },
  {
   "cell_type": "markdown",
   "id": "c6b1fb3e",
   "metadata": {},
   "source": [
    "**Deleting missing values**"
   ]
  },
  {
   "cell_type": "code",
   "execution_count": 4,
   "id": "0dfe06a5",
   "metadata": {},
   "outputs": [
    {
     "data": {
      "text/plain": [
       "children               0\n",
       "days_employed       2174\n",
       "dob_years              0\n",
       "education              0\n",
       "education_id           0\n",
       "family_status          0\n",
       "family_status_id       0\n",
       "gender                 0\n",
       "income_type            0\n",
       "debt                   0\n",
       "total_income        2174\n",
       "purpose                0\n",
       "dtype: int64"
      ]
     },
     "execution_count": 4,
     "metadata": {},
     "output_type": "execute_result"
    }
   ],
   "source": [
    "# Print the number of missing values for each column\n",
    "data.isna().sum()"
   ]
  },
  {
   "cell_type": "markdown",
   "id": "ee13075e",
   "metadata": {},
   "source": [
    "There are missing values in two columns. The column with missing values, *total_income*— stores income data. The amount of income is most strongly influenced by the type of employment, so fill in the gaps in this column with the median values for each type from the income_type column."
   ]
  },
  {
   "cell_type": "code",
   "execution_count": 5,
   "id": "5e03fa8c",
   "metadata": {},
   "outputs": [],
   "source": [
    "for t in data['income_type'].unique():\n",
    "    data.loc[(data['income_type'] == t) & (data['total_income'].isna()), 'total_income'] = \\\n",
    "    data.loc[(data['income_type'] == t), 'total_income'].median()"
   ]
  },
  {
   "cell_type": "markdown",
   "id": "cf42f228",
   "metadata": {},
   "source": [
    "**Handling abnormal values**"
   ]
  },
  {
   "cell_type": "markdown",
   "id": "e84dc474",
   "metadata": {},
   "source": [
    "Let's process the gaps in the *days_employed* column. A negative number of days of work experience is an anomaly. Let's replace all negative values with positive ones."
   ]
  },
  {
   "cell_type": "code",
   "execution_count": 6,
   "id": "9d2ce34a",
   "metadata": {},
   "outputs": [],
   "source": [
    "# Take the modulus of values using abs()\n",
    "data['days_employed'] = data['days_employed'].abs()"
   ]
  },
  {
   "cell_type": "markdown",
   "id": "6d38b6fc",
   "metadata": {},
   "source": [
    "**Let's look at the unique values in the *children* column**"
   ]
  },
  {
   "cell_type": "code",
   "execution_count": 7,
   "id": "2e33bd77",
   "metadata": {},
   "outputs": [
    {
     "data": {
      "text/plain": [
       "array([ 1,  0,  3,  2, -1,  4, 20,  5])"
      ]
     },
     "execution_count": 7,
     "metadata": {},
     "output_type": "execute_result"
    }
   ],
   "source": [
    "data['children'].unique()"
   ]
  },
  {
   "cell_type": "markdown",
   "id": "bd013bfe",
   "metadata": {},
   "source": [
    "There are two abnormal values in the children column: *(-1)* and *20*. Let's delete the lines that contain such abnormal values from the data."
   ]
  },
  {
   "cell_type": "code",
   "execution_count": 8,
   "id": "528bf5b0",
   "metadata": {},
   "outputs": [],
   "source": [
    "data = data[(data['children'] != -1) & (data['children'] != 20)]"
   ]
  },
  {
   "cell_type": "code",
   "execution_count": 9,
   "id": "022b85ce",
   "metadata": {},
   "outputs": [
    {
     "data": {
      "text/plain": [
       "array([1, 0, 3, 2, 4, 5])"
      ]
     },
     "execution_count": 9,
     "metadata": {},
     "output_type": "execute_result"
    }
   ],
   "source": [
    "# Checking results\n",
    "data['children'].unique()"
   ]
  },
  {
   "cell_type": "markdown",
   "id": "c5abf830",
   "metadata": {},
   "source": [
    "**Fill in the missing values in the *days_employed* column with the median values for each type of employment from *income_type*.**"
   ]
  },
  {
   "cell_type": "code",
   "execution_count": 10,
   "id": "7f5e9502",
   "metadata": {},
   "outputs": [],
   "source": [
    "for t in data['income_type'].unique():\n",
    "    data.loc[(data['income_type'] == t) & (data['days_employed'].isna()), 'days_employed'] = \\\n",
    "    data.loc[(data['income_type'] == t), 'days_employed'].median()"
   ]
  },
  {
   "cell_type": "code",
   "execution_count": 11,
   "id": "4e72cd37",
   "metadata": {},
   "outputs": [
    {
     "data": {
      "text/plain": [
       "children            0\n",
       "days_employed       0\n",
       "dob_years           0\n",
       "education           0\n",
       "education_id        0\n",
       "family_status       0\n",
       "family_status_id    0\n",
       "gender              0\n",
       "income_type         0\n",
       "debt                0\n",
       "total_income        0\n",
       "purpose             0\n",
       "dtype: int64"
      ]
     },
     "execution_count": 11,
     "metadata": {},
     "output_type": "execute_result"
    }
   ],
   "source": [
    "# Make sure that all the missing values are filled in.\n",
    "data.isna().sum()"
   ]
  },
  {
   "cell_type": "markdown",
   "id": "1e36e87c",
   "metadata": {},
   "source": [
    "### **4.2 Data Processing**"
   ]
  },
  {
   "cell_type": "markdown",
   "id": "0182f204",
   "metadata": {},
   "source": [
    "**For a better understanding of the data, let's look at the name of the columns and the data they contain.**\n",
    "\n",
    "* *children* — number of children in the family\n",
    "* *days_employed* — total work experience in days\n",
    "* *dob_years* — client's age in years\n",
    "* *education* — client's education level\n",
    "* *education_id* — educational level identifier\n",
    "* *family_status* — marital status\n",
    "* *family_status_id* — marital status identifier\n",
    "* *gender* — gender of the client\n",
    "* *income_type* — type of employment\n",
    "* *debt* — whether loan repayment arrears\n",
    "* *total_income* — monthly income\n",
    "* *purpose* — purpose of obtaining a loan\n",
    "\n",
    "**Changing the data type in the *total_income* and *days_employed* columns to integer**"
   ]
  },
  {
   "cell_type": "code",
   "execution_count": 36,
   "id": "9931740f",
   "metadata": {},
   "outputs": [],
   "source": [
    "data['total_income'] = data['total_income'].astype(int)\n",
    "data['days_employed'] = data['days_employed'].astype(int)\n"
   ]
  },
  {
   "cell_type": "markdown",
   "id": "ce47ef93",
   "metadata": {},
   "source": [
    "**Duplicate handling**"
   ]
  },
  {
   "cell_type": "code",
   "execution_count": 13,
   "id": "e9d60227",
   "metadata": {},
   "outputs": [],
   "source": [
    "# Lower-case the column education\n",
    "data['education'] = data['education'].str.lower()"
   ]
  },
  {
   "cell_type": "code",
   "execution_count": 14,
   "id": "c243d9bb",
   "metadata": {},
   "outputs": [
    {
     "data": {
      "text/plain": [
       "np.int64(82)"
      ]
     },
     "execution_count": 14,
     "metadata": {},
     "output_type": "execute_result"
    }
   ],
   "source": [
    "# Print the number of duplicate rows\n",
    "data.duplicated().sum()"
   ]
  },
  {
   "cell_type": "code",
   "execution_count": 15,
   "id": "b80e6a8e",
   "metadata": {},
   "outputs": [],
   "source": [
    "# Delete duplicate rows\n",
    "data = data.drop_duplicates()"
   ]
  },
  {
   "cell_type": "markdown",
   "id": "907910f2",
   "metadata": {},
   "source": [
    "**Data categorization**"
   ]
  },
  {
   "cell_type": "markdown",
   "id": "779e4ba1",
   "metadata": {},
   "source": [
    "Create a *`total_income_category`* column with categories\n",
    "\n",
    "- 0–30000 — `'E'`;\n",
    "- 30001–50000 — `'D'`;\n",
    "- 50001–200000 — `'C'`;\n",
    "- 200001–1000000 — `'B'`;\n",
    "- 1000001 and more — `'A'`."
   ]
  },
  {
   "cell_type": "code",
   "execution_count": 16,
   "id": "dff1bc0a",
   "metadata": {},
   "outputs": [],
   "source": [
    "def categorize_income(income):\n",
    "    try:\n",
    "        if 0 <= income <= 30000:\n",
    "            return 'E'\n",
    "        elif 30001 <= income <= 50000:\n",
    "            return 'D'\n",
    "        elif 50001 <= income <= 200000:\n",
    "            return 'C'\n",
    "        elif 200001 <= income <= 1000000:\n",
    "            return 'B'\n",
    "        elif income >= 1000001:\n",
    "            return 'A'\n",
    "    except:\n",
    "        pass"
   ]
  },
  {
   "cell_type": "code",
   "execution_count": 17,
   "id": "ddaf36d6",
   "metadata": {},
   "outputs": [],
   "source": [
    "data['total_income_category'] = data['total_income'].apply(categorize_income)"
   ]
  },
  {
   "cell_type": "markdown",
   "id": "c3fc2b29",
   "metadata": {},
   "source": [
    "**List of unique purposes of taking out a loan.**"
   ]
  },
  {
   "cell_type": "code",
   "execution_count": 18,
   "id": "016e5482",
   "metadata": {},
   "outputs": [
    {
     "data": {
      "text/plain": [
       "array(['housing purchase', 'car purchase', 'additional education',\n",
       "       'wedding', 'real estate transactions', 'education', 'for wedding',\n",
       "       'buying housing for family', 'real estate purchase',\n",
       "       'buying commercial real estate', 'buying residential real estate',\n",
       "       'construction of own property', 'real estate',\n",
       "       'real estate construction', 'buying a used car', 'buying own car',\n",
       "       'commercial real estate transactions',\n",
       "       'residential real estate construction', 'housing',\n",
       "       'transactions with own real estate', 'cars', 'pursue education',\n",
       "       'used car transaction', 'getting education', 'car',\n",
       "       'getting additional education', 'buying own housing',\n",
       "       'getting higher education', 'own car', 'car transaction',\n",
       "       'professional education', 'higher education',\n",
       "       'buying housing for renting', 'for car purchase',\n",
       "       'housing renovation', 'pursue higher education'], dtype=object)"
      ]
     },
     "execution_count": 18,
     "metadata": {},
     "output_type": "execute_result"
    }
   ],
   "source": [
    "data['purpose'].unique()"
   ]
  },
  {
   "cell_type": "markdown",
   "id": "e1254f39",
   "metadata": {},
   "source": [
    "Create a new purpose_category column, which will include the following categories:\n",
    "\n",
    "- car\n",
    "- real estate\n",
    "- wedding\n",
    "- education"
   ]
  },
  {
   "cell_type": "code",
   "execution_count": 29,
   "id": "1778d43d",
   "metadata": {},
   "outputs": [],
   "source": [
    "def categorize_purpose(row):\n",
    "    try:\n",
    "        if 'car' in row:\n",
    "            return 'car'\n",
    "        elif 'estate' in row or 'hous' in row:\n",
    "            return 'real estate'\n",
    "        elif 'wedding' in row:\n",
    "            return 'wedding'\n",
    "        elif 'education' in row:\n",
    "            return 'education'\n",
    "    except:\n",
    "        return 'other'"
   ]
  },
  {
   "cell_type": "code",
   "execution_count": 30,
   "id": "4831086f",
   "metadata": {},
   "outputs": [],
   "source": [
    "data['purpose_category'] = data['purpose'].apply(categorize_purpose)"
   ]
  },
  {
   "cell_type": "code",
   "execution_count": 31,
   "id": "3e891b14",
   "metadata": {},
   "outputs": [
    {
     "data": {
      "text/plain": [
       "array(['real estate', 'car', 'education', 'wedding', None], dtype=object)"
      ]
     },
     "execution_count": 31,
     "metadata": {},
     "output_type": "execute_result"
    }
   ],
   "source": [
    "data['purpose_category'].unique()"
   ]
  },
  {
   "cell_type": "markdown",
   "id": "f1c0b730",
   "metadata": {},
   "source": [
    "**Let's look at the summary statistics for each column to check them for outliers**"
   ]
  },
  {
   "cell_type": "code",
   "execution_count": 38,
   "id": "dcc4c48d",
   "metadata": {},
   "outputs": [
    {
     "data": {
      "text/html": [
       "<div>\n",
       "<style scoped>\n",
       "    .dataframe tbody tr th:only-of-type {\n",
       "        vertical-align: middle;\n",
       "    }\n",
       "\n",
       "    .dataframe tbody tr th {\n",
       "        vertical-align: top;\n",
       "    }\n",
       "\n",
       "    .dataframe thead th {\n",
       "        text-align: right;\n",
       "    }\n",
       "</style>\n",
       "<table border=\"1\" class=\"dataframe\">\n",
       "  <thead>\n",
       "    <tr style=\"text-align: right;\">\n",
       "      <th></th>\n",
       "      <th>children</th>\n",
       "      <th>days_employed</th>\n",
       "      <th>dob_years</th>\n",
       "      <th>education_id</th>\n",
       "      <th>family_status_id</th>\n",
       "      <th>debt</th>\n",
       "      <th>total_income</th>\n",
       "    </tr>\n",
       "  </thead>\n",
       "  <tbody>\n",
       "    <tr>\n",
       "      <th>count</th>\n",
       "      <td>21320.000000</td>\n",
       "      <td>21320.000000</td>\n",
       "      <td>21320.000000</td>\n",
       "      <td>21320.000000</td>\n",
       "      <td>21320.000000</td>\n",
       "      <td>21320.000000</td>\n",
       "      <td>2.132000e+04</td>\n",
       "    </tr>\n",
       "    <tr>\n",
       "      <th>mean</th>\n",
       "      <td>0.474109</td>\n",
       "      <td>67045.826829</td>\n",
       "      <td>43.270638</td>\n",
       "      <td>0.816932</td>\n",
       "      <td>0.974625</td>\n",
       "      <td>0.081238</td>\n",
       "      <td>1.653635e+05</td>\n",
       "    </tr>\n",
       "    <tr>\n",
       "      <th>std</th>\n",
       "      <td>0.752428</td>\n",
       "      <td>139195.093976</td>\n",
       "      <td>12.573537</td>\n",
       "      <td>0.549381</td>\n",
       "      <td>1.422107</td>\n",
       "      <td>0.273207</td>\n",
       "      <td>9.833479e+04</td>\n",
       "    </tr>\n",
       "    <tr>\n",
       "      <th>min</th>\n",
       "      <td>0.000000</td>\n",
       "      <td>24.000000</td>\n",
       "      <td>0.000000</td>\n",
       "      <td>0.000000</td>\n",
       "      <td>0.000000</td>\n",
       "      <td>0.000000</td>\n",
       "      <td>2.066700e+04</td>\n",
       "    </tr>\n",
       "    <tr>\n",
       "      <th>25%</th>\n",
       "      <td>0.000000</td>\n",
       "      <td>1024.000000</td>\n",
       "      <td>33.000000</td>\n",
       "      <td>1.000000</td>\n",
       "      <td>0.000000</td>\n",
       "      <td>0.000000</td>\n",
       "      <td>1.074905e+05</td>\n",
       "    </tr>\n",
       "    <tr>\n",
       "      <th>50%</th>\n",
       "      <td>0.000000</td>\n",
       "      <td>1996.000000</td>\n",
       "      <td>42.000000</td>\n",
       "      <td>1.000000</td>\n",
       "      <td>0.000000</td>\n",
       "      <td>0.000000</td>\n",
       "      <td>1.425940e+05</td>\n",
       "    </tr>\n",
       "    <tr>\n",
       "      <th>75%</th>\n",
       "      <td>1.000000</td>\n",
       "      <td>5320.250000</td>\n",
       "      <td>53.000000</td>\n",
       "      <td>1.000000</td>\n",
       "      <td>1.000000</td>\n",
       "      <td>0.000000</td>\n",
       "      <td>1.958730e+05</td>\n",
       "    </tr>\n",
       "    <tr>\n",
       "      <th>max</th>\n",
       "      <td>5.000000</td>\n",
       "      <td>401755.000000</td>\n",
       "      <td>75.000000</td>\n",
       "      <td>4.000000</td>\n",
       "      <td>4.000000</td>\n",
       "      <td>1.000000</td>\n",
       "      <td>2.265604e+06</td>\n",
       "    </tr>\n",
       "  </tbody>\n",
       "</table>\n",
       "</div>"
      ],
      "text/plain": [
       "           children  days_employed     dob_years  education_id  \\\n",
       "count  21320.000000   21320.000000  21320.000000  21320.000000   \n",
       "mean       0.474109   67045.826829     43.270638      0.816932   \n",
       "std        0.752428  139195.093976     12.573537      0.549381   \n",
       "min        0.000000      24.000000      0.000000      0.000000   \n",
       "25%        0.000000    1024.000000     33.000000      1.000000   \n",
       "50%        0.000000    1996.000000     42.000000      1.000000   \n",
       "75%        1.000000    5320.250000     53.000000      1.000000   \n",
       "max        5.000000  401755.000000     75.000000      4.000000   \n",
       "\n",
       "       family_status_id          debt  total_income  \n",
       "count      21320.000000  21320.000000  2.132000e+04  \n",
       "mean           0.974625      0.081238  1.653635e+05  \n",
       "std            1.422107      0.273207  9.833479e+04  \n",
       "min            0.000000      0.000000  2.066700e+04  \n",
       "25%            0.000000      0.000000  1.074905e+05  \n",
       "50%            0.000000      0.000000  1.425940e+05  \n",
       "75%            1.000000      0.000000  1.958730e+05  \n",
       "max            4.000000      1.000000  2.265604e+06  "
      ]
     },
     "execution_count": 38,
     "metadata": {},
     "output_type": "execute_result"
    }
   ],
   "source": [
    "data.describe()"
   ]
  },
  {
   "cell_type": "markdown",
   "id": "898ebe09",
   "metadata": {},
   "source": [
    "**Conclusion:**\n",
    "\n",
    "* The *children* column:\n",
    "\n",
    "    There are no errors. The minimum number of children is 0. The maximum is 5.\n",
    "\n",
    "* The *days_employed* column:\n",
    "\n",
    "    There are no negative values. The minimum value is 24 days. The maximum value is 401,755 years of service. One could assume that the value is mistakenly specified in hours, but the values of the first and third quartiles look plausible, so I assume that the maximum value is outlier.\n",
    "\n",
    "* The *dob_years* column:\n",
    "\n",
    "    The minimum age value in years is 0 - Outlier\n",
    "\n",
    "* The *total_income* column:\n",
    "\n",
    "    No deviations"
   ]
  },
  {
   "cell_type": "markdown",
   "id": "21b5bb8b",
   "metadata": {},
   "source": [
    "**Column *dob_years***"
   ]
  },
  {
   "cell_type": "code",
   "execution_count": 39,
   "id": "e7c3b487",
   "metadata": {},
   "outputs": [
    {
     "data": {
      "text/plain": [
       "np.int64(100)"
      ]
     },
     "execution_count": 39,
     "metadata": {},
     "output_type": "execute_result"
    }
   ],
   "source": [
    "# Let's look at the number of rows in the dataframe,\n",
    "# where the age is less than 18 years (minimum age of the client)\n",
    "data.loc[data['dob_years'] < 18, 'dob_years'].count()"
   ]
  },
  {
   "cell_type": "code",
   "execution_count": 42,
   "id": "ebd7ee89",
   "metadata": {},
   "outputs": [
    {
     "data": {
      "text/plain": [
       "np.int64(100)"
      ]
     },
     "execution_count": 42,
     "metadata": {},
     "output_type": "execute_result"
    }
   ],
   "source": [
    "# Let's see if the rows with an age of less than 18 are zero. To do this,\n",
    "# let's count the number of rows less than 18 years old and equal to 0.\n",
    "data.loc[(data['dob_years'] < 18) & (data['dob_years'] == 0), 'dob_years'].count()"
   ]
  },
  {
   "cell_type": "markdown",
   "id": "427a1b32",
   "metadata": {},
   "source": [
    "Conclusion: 100 lines will contain the age of the borrower equal to 0, which is an error in the data. The error could probably have occurred due to filling in the missing values with zeros. We'll treat them as omissions. Let's replace the zero values with the average values that we calculate for each type of employment(*income_type*)."
   ]
  },
  {
   "cell_type": "code",
   "execution_count": 44,
   "id": "9a47b095",
   "metadata": {},
   "outputs": [],
   "source": [
    "# Let's go through the for loop through the unique values of the employment type column,\n",
    "# find the average value, and fill in the gaps with the values obtained.\n",
    "for t in data['income_type'].unique():\n",
    "    mean_value = data.loc[data['income_type'] == t, 'dob_years'].mean()\n",
    "    data.loc[(data['dob_years'] == 0) & (data['income_type'] == t), 'dob_years'] = mean_value"
   ]
  },
  {
   "cell_type": "code",
   "execution_count": 45,
   "id": "7b8c82b6",
   "metadata": {},
   "outputs": [
    {
     "data": {
      "text/plain": [
       "np.int64(0)"
      ]
     },
     "execution_count": 45,
     "metadata": {},
     "output_type": "execute_result"
    }
   ],
   "source": [
    "data.loc[data['dob_years'] == 0, 'dob_years'].count()"
   ]
  },
  {
   "cell_type": "markdown",
   "id": "2acee4f0",
   "metadata": {},
   "source": [
    "**Column *education***"
   ]
  },
  {
   "cell_type": "code",
   "execution_count": null,
   "id": "d7b7e366",
   "metadata": {},
   "outputs": [
    {
     "data": {
      "text/plain": [
       "education\n",
       "secondary            15065\n",
       "higher                5226\n",
       "unfinished higher      741\n",
       "primary                282\n",
       "academic degree          6\n",
       "Name: count, dtype: int64"
      ]
     },
     "execution_count": 46,
     "metadata": {},
     "output_type": "execute_result"
    }
   ],
   "source": [
    "# Looking at the values of the education column\n",
    "data['education'].sort_values().value_counts()"
   ]
  },
  {
   "cell_type": "markdown",
   "id": "17fa28fc",
   "metadata": {},
   "source": [
    "The data is fine."
   ]
  },
  {
   "cell_type": "markdown",
   "id": "79836aa0",
   "metadata": {},
   "source": [
    "## **5. Analysis**"
   ]
  },
  {
   "cell_type": "markdown",
   "id": "5d7041bf",
   "metadata": {},
   "source": [
    "### **5.1 Is there a relationship between the number of children and repayment of the loan on time?**"
   ]
  },
  {
   "cell_type": "markdown",
   "id": "4cf216d5",
   "metadata": {},
   "source": [
    "To answer this question, I will do the following:\n",
    "1. Create an additional column in the dataframe, in which I will categorize clients by the number of children.\n",
    "2. Create a pivot table."
   ]
  },
  {
   "cell_type": "markdown",
   "id": "add6aa0c",
   "metadata": {},
   "source": [
    "Let's create a function that will display the category of people by the number of children:\n",
    "* *no children*, if there are no children\n",
    "* *have children*, if 1 or 2 children \n",
    "* *have many children*, if 3 or more children"
   ]
  },
  {
   "cell_type": "code",
   "execution_count": 52,
   "id": "0ee912d4",
   "metadata": {},
   "outputs": [],
   "source": [
    "def children_category(children):\n",
    "    if 1 <= children <= 2:\n",
    "        return 'have children'\n",
    "    if children >= 3:\n",
    "        return 'have many children'\n",
    "    return 'no children'"
   ]
  },
  {
   "cell_type": "code",
   "execution_count": 53,
   "id": "f2852e0a",
   "metadata": {},
   "outputs": [],
   "source": [
    "# Create a new column 'parenthood' and fill it with the results of the function\n",
    "data['parenthood'] = data['children'].apply(children_category)"
   ]
  },
  {
   "cell_type": "code",
   "execution_count": 63,
   "id": "570a3a28",
   "metadata": {},
   "outputs": [
    {
     "data": {
      "text/html": [
       "<div>\n",
       "<style scoped>\n",
       "    .dataframe tbody tr th:only-of-type {\n",
       "        vertical-align: middle;\n",
       "    }\n",
       "\n",
       "    .dataframe tbody tr th {\n",
       "        vertical-align: top;\n",
       "    }\n",
       "\n",
       "    .dataframe thead th {\n",
       "        text-align: right;\n",
       "    }\n",
       "</style>\n",
       "<table border=\"1\" class=\"dataframe\">\n",
       "  <thead>\n",
       "    <tr style=\"text-align: right;\">\n",
       "      <th></th>\n",
       "      <th>children</th>\n",
       "      <th>days_employed</th>\n",
       "      <th>dob_years</th>\n",
       "      <th>education</th>\n",
       "      <th>education_id</th>\n",
       "      <th>family_status</th>\n",
       "      <th>family_status_id</th>\n",
       "      <th>gender</th>\n",
       "      <th>income_type</th>\n",
       "      <th>debt</th>\n",
       "      <th>total_income</th>\n",
       "      <th>purpose</th>\n",
       "      <th>total_income_category</th>\n",
       "      <th>purpose_category</th>\n",
       "      <th>parenthood</th>\n",
       "    </tr>\n",
       "  </thead>\n",
       "  <tbody>\n",
       "    <tr>\n",
       "      <th>0</th>\n",
       "      <td>1</td>\n",
       "      <td>8437</td>\n",
       "      <td>42.0</td>\n",
       "      <td>higher</td>\n",
       "      <td>0</td>\n",
       "      <td>married</td>\n",
       "      <td>0</td>\n",
       "      <td>F</td>\n",
       "      <td>employee</td>\n",
       "      <td>0</td>\n",
       "      <td>253875</td>\n",
       "      <td>housing purchase</td>\n",
       "      <td>B</td>\n",
       "      <td>real estate</td>\n",
       "      <td>have children</td>\n",
       "    </tr>\n",
       "    <tr>\n",
       "      <th>1</th>\n",
       "      <td>1</td>\n",
       "      <td>4024</td>\n",
       "      <td>36.0</td>\n",
       "      <td>secondary</td>\n",
       "      <td>1</td>\n",
       "      <td>married</td>\n",
       "      <td>0</td>\n",
       "      <td>F</td>\n",
       "      <td>employee</td>\n",
       "      <td>0</td>\n",
       "      <td>112080</td>\n",
       "      <td>car purchase</td>\n",
       "      <td>C</td>\n",
       "      <td>car</td>\n",
       "      <td>have children</td>\n",
       "    </tr>\n",
       "    <tr>\n",
       "      <th>2</th>\n",
       "      <td>0</td>\n",
       "      <td>5623</td>\n",
       "      <td>33.0</td>\n",
       "      <td>secondary</td>\n",
       "      <td>1</td>\n",
       "      <td>married</td>\n",
       "      <td>0</td>\n",
       "      <td>M</td>\n",
       "      <td>employee</td>\n",
       "      <td>0</td>\n",
       "      <td>145885</td>\n",
       "      <td>housing purchase</td>\n",
       "      <td>C</td>\n",
       "      <td>real estate</td>\n",
       "      <td>no children</td>\n",
       "    </tr>\n",
       "    <tr>\n",
       "      <th>3</th>\n",
       "      <td>3</td>\n",
       "      <td>4124</td>\n",
       "      <td>32.0</td>\n",
       "      <td>secondary</td>\n",
       "      <td>1</td>\n",
       "      <td>married</td>\n",
       "      <td>0</td>\n",
       "      <td>M</td>\n",
       "      <td>employee</td>\n",
       "      <td>0</td>\n",
       "      <td>267628</td>\n",
       "      <td>additional education</td>\n",
       "      <td>B</td>\n",
       "      <td>education</td>\n",
       "      <td>have many children</td>\n",
       "    </tr>\n",
       "    <tr>\n",
       "      <th>4</th>\n",
       "      <td>0</td>\n",
       "      <td>340266</td>\n",
       "      <td>53.0</td>\n",
       "      <td>secondary</td>\n",
       "      <td>1</td>\n",
       "      <td>civil marriage</td>\n",
       "      <td>1</td>\n",
       "      <td>F</td>\n",
       "      <td>retiree</td>\n",
       "      <td>0</td>\n",
       "      <td>158616</td>\n",
       "      <td>wedding</td>\n",
       "      <td>C</td>\n",
       "      <td>wedding</td>\n",
       "      <td>no children</td>\n",
       "    </tr>\n",
       "  </tbody>\n",
       "</table>\n",
       "</div>"
      ],
      "text/plain": [
       "   children  days_employed  dob_years  education  education_id  \\\n",
       "0         1           8437       42.0     higher             0   \n",
       "1         1           4024       36.0  secondary             1   \n",
       "2         0           5623       33.0  secondary             1   \n",
       "3         3           4124       32.0  secondary             1   \n",
       "4         0         340266       53.0  secondary             1   \n",
       "\n",
       "    family_status  family_status_id gender income_type  debt  total_income  \\\n",
       "0         married                 0      F    employee     0        253875   \n",
       "1         married                 0      F    employee     0        112080   \n",
       "2         married                 0      M    employee     0        145885   \n",
       "3         married                 0      M    employee     0        267628   \n",
       "4  civil marriage                 1      F     retiree     0        158616   \n",
       "\n",
       "                purpose total_income_category purpose_category  \\\n",
       "0      housing purchase                     B      real estate   \n",
       "1          car purchase                     C              car   \n",
       "2      housing purchase                     C      real estate   \n",
       "3  additional education                     B        education   \n",
       "4               wedding                     C          wedding   \n",
       "\n",
       "           parenthood  \n",
       "0       have children  \n",
       "1       have children  \n",
       "2         no children  \n",
       "3  have many children  \n",
       "4         no children  "
      ]
     },
     "execution_count": 63,
     "metadata": {},
     "output_type": "execute_result"
    }
   ],
   "source": [
    "# Check the current state of the dataframe\n",
    "data.head()"
   ]
  },
  {
   "cell_type": "markdown",
   "id": "2d1cffca",
   "metadata": {},
   "source": [
    "**Create a pivot table**"
   ]
  },
  {
   "cell_type": "code",
   "execution_count": 55,
   "id": "7475827d",
   "metadata": {},
   "outputs": [
    {
     "data": {
      "text/html": [
       "<div>\n",
       "<style scoped>\n",
       "    .dataframe tbody tr th:only-of-type {\n",
       "        vertical-align: middle;\n",
       "    }\n",
       "\n",
       "    .dataframe tbody tr th {\n",
       "        vertical-align: top;\n",
       "    }\n",
       "\n",
       "    .dataframe thead th {\n",
       "        text-align: right;\n",
       "    }\n",
       "</style>\n",
       "<table border=\"1\" class=\"dataframe\">\n",
       "  <thead>\n",
       "    <tr style=\"text-align: right;\">\n",
       "      <th></th>\n",
       "      <th>no_debt</th>\n",
       "      <th>debt</th>\n",
       "      <th>number_of_debtors</th>\n",
       "    </tr>\n",
       "    <tr>\n",
       "      <th>parenthood</th>\n",
       "      <th></th>\n",
       "      <th></th>\n",
       "      <th></th>\n",
       "    </tr>\n",
       "  </thead>\n",
       "  <tbody>\n",
       "    <tr>\n",
       "      <th>have children</th>\n",
       "      <td>6220</td>\n",
       "      <td>638</td>\n",
       "      <td>9.3%</td>\n",
       "    </tr>\n",
       "    <tr>\n",
       "      <th>have many children</th>\n",
       "      <td>349</td>\n",
       "      <td>31</td>\n",
       "      <td>8.2%</td>\n",
       "    </tr>\n",
       "    <tr>\n",
       "      <th>no children</th>\n",
       "      <td>13019</td>\n",
       "      <td>1063</td>\n",
       "      <td>7.5%</td>\n",
       "    </tr>\n",
       "  </tbody>\n",
       "</table>\n",
       "</div>"
      ],
      "text/plain": [
       "                    no_debt  debt number_of_debtors\n",
       "parenthood                                         \n",
       "have children          6220   638              9.3%\n",
       "have many children      349    31              8.2%\n",
       "no children           13019  1063              7.5%"
      ]
     },
     "execution_count": 55,
     "metadata": {},
     "output_type": "execute_result"
    }
   ],
   "source": [
    "# Creating pivot_table()\n",
    "debt_children = data.pivot_table(index='parenthood', columns='debt', values='gender', aggfunc='count')\n",
    "# Creating new columns\n",
    "debt_children.columns = ['no_debt', 'debt']\n",
    "# Calculating the number of debtors\n",
    "debt_children['number_of_debtors'] = debt_children['debt'] / (debt_children['debt'] + debt_children['no_debt'])\n",
    "# Converting the values in the number_of_debtors column to percentages\n",
    "debt_children['number_of_debtors'] = debt_children['number_of_debtors'].map('{:.1%}'.format)\n",
    "# Sort by column number_of_debtors in descending order\n",
    "debt_children.sort_values(by='number_of_debtors', ascending=False)"
   ]
  },
  {
   "cell_type": "markdown",
   "id": "5392facd",
   "metadata": {},
   "source": [
    "**Conclusion: Having children increases the likelihood of debt.** this is probably due to additional expenses for children. However, it can be noted that in *\"have many children\"* category the level of debtors is lower (8.2%) than in families with one or two children (9.3%). However, the number of borrowers in the *\"have many children\"* category may not be enough for this comparison. The lowest rate of debtors is for the category of citizens without children (7.5%)."
   ]
  },
  {
   "cell_type": "markdown",
   "id": "f86c7117",
   "metadata": {},
   "source": [
    "### **5.2 Is there a relationship between marital status and repayment of the loan on time?**"
   ]
  },
  {
   "cell_type": "markdown",
   "id": "21a1be2e",
   "metadata": {},
   "source": [
    "**Create a pivot table**\n",
    "\n",
    "Let's create a pivot table as in the answer to the previous question above"
   ]
  },
  {
   "cell_type": "code",
   "execution_count": 59,
   "id": "8bd59e94",
   "metadata": {},
   "outputs": [
    {
     "data": {
      "text/html": [
       "<div>\n",
       "<style scoped>\n",
       "    .dataframe tbody tr th:only-of-type {\n",
       "        vertical-align: middle;\n",
       "    }\n",
       "\n",
       "    .dataframe tbody tr th {\n",
       "        vertical-align: top;\n",
       "    }\n",
       "\n",
       "    .dataframe thead th {\n",
       "        text-align: right;\n",
       "    }\n",
       "</style>\n",
       "<table border=\"1\" class=\"dataframe\">\n",
       "  <thead>\n",
       "    <tr style=\"text-align: right;\">\n",
       "      <th></th>\n",
       "      <th>no_debt</th>\n",
       "      <th>debt</th>\n",
       "      <th>number_of_debtors</th>\n",
       "    </tr>\n",
       "    <tr>\n",
       "      <th>family_status</th>\n",
       "      <th></th>\n",
       "      <th></th>\n",
       "      <th></th>\n",
       "    </tr>\n",
       "  </thead>\n",
       "  <tbody>\n",
       "    <tr>\n",
       "      <th>not married</th>\n",
       "      <td>2523</td>\n",
       "      <td>273</td>\n",
       "      <td>9.8%</td>\n",
       "    </tr>\n",
       "    <tr>\n",
       "      <th>civil marriage</th>\n",
       "      <td>3741</td>\n",
       "      <td>385</td>\n",
       "      <td>9.3%</td>\n",
       "    </tr>\n",
       "    <tr>\n",
       "      <th>married</th>\n",
       "      <td>11331</td>\n",
       "      <td>927</td>\n",
       "      <td>7.6%</td>\n",
       "    </tr>\n",
       "    <tr>\n",
       "      <th>divorced</th>\n",
       "      <td>1105</td>\n",
       "      <td>84</td>\n",
       "      <td>7.1%</td>\n",
       "    </tr>\n",
       "    <tr>\n",
       "      <th>widow/widower</th>\n",
       "      <td>888</td>\n",
       "      <td>63</td>\n",
       "      <td>6.6%</td>\n",
       "    </tr>\n",
       "  </tbody>\n",
       "</table>\n",
       "</div>"
      ],
      "text/plain": [
       "                no_debt  debt number_of_debtors\n",
       "family_status                                  \n",
       "not married        2523   273              9.8%\n",
       "civil marriage     3741   385              9.3%\n",
       "married           11331   927              7.6%\n",
       "divorced           1105    84              7.1%\n",
       "widow/widower       888    63              6.6%"
      ]
     },
     "execution_count": 59,
     "metadata": {},
     "output_type": "execute_result"
    }
   ],
   "source": [
    "debt_family_status = data.pivot_table(index='family_status', columns='debt', values='gender', aggfunc='count')\n",
    "debt_family_status.columns = ['no_debt', 'debt']\n",
    "debt_family_status['number_of_debtors'] = debt_family_status['debt'] / (debt_family_status['debt'] + debt_family_status['no_debt'])\n",
    "debt_family_status['number_of_debtors'] = debt_family_status['number_of_debtors'].map('{:.1%}'.format)\n",
    "debt_family_status.sort_values(by='number_of_debtors', ascending=False)"
   ]
  },
  {
   "cell_type": "markdown",
   "id": "b8eb32c3",
   "metadata": {},
   "source": [
    "**Output: Unmarried people and those in civil partnerships are more at risk of becoming debtors** Other categories that have been married or are currently married have lower percentages of debtors. The widower/widow category has the lowest percentage (6.6%). "
   ]
  },
  {
   "cell_type": "markdown",
   "id": "b266f6a8",
   "metadata": {},
   "source": [
    "### **5.3  Is there a relationship between income level and repayment of the loan on time?**"
   ]
  },
  {
   "cell_type": "markdown",
   "id": "bbfbd606",
   "metadata": {},
   "source": [
    "Let me remind you of the income categorization that I created earlier:\n",
    "\n",
    "- 0–30000 — 'E';\n",
    "- 30001–50000 — 'D';\n",
    "- 50001–200000 — 'C';\n",
    "- 200001–1000000 — 'B';\n",
    "- 1000001 and more — 'A'."
   ]
  },
  {
   "cell_type": "markdown",
   "id": "fe319ea5",
   "metadata": {},
   "source": [
    "**Create a pivot table**"
   ]
  },
  {
   "cell_type": "code",
   "execution_count": 60,
   "id": "f0dbafe3",
   "metadata": {},
   "outputs": [
    {
     "data": {
      "text/html": [
       "<div>\n",
       "<style scoped>\n",
       "    .dataframe tbody tr th:only-of-type {\n",
       "        vertical-align: middle;\n",
       "    }\n",
       "\n",
       "    .dataframe tbody tr th {\n",
       "        vertical-align: top;\n",
       "    }\n",
       "\n",
       "    .dataframe thead th {\n",
       "        text-align: right;\n",
       "    }\n",
       "</style>\n",
       "<table border=\"1\" class=\"dataframe\">\n",
       "  <thead>\n",
       "    <tr style=\"text-align: right;\">\n",
       "      <th></th>\n",
       "      <th>no_debt</th>\n",
       "      <th>debt</th>\n",
       "      <th>number_of_debtors</th>\n",
       "    </tr>\n",
       "    <tr>\n",
       "      <th>total_income_category</th>\n",
       "      <th></th>\n",
       "      <th></th>\n",
       "      <th></th>\n",
       "    </tr>\n",
       "  </thead>\n",
       "  <tbody>\n",
       "    <tr>\n",
       "      <th>E</th>\n",
       "      <td>20</td>\n",
       "      <td>2</td>\n",
       "      <td>9.1%</td>\n",
       "    </tr>\n",
       "    <tr>\n",
       "      <th>C</th>\n",
       "      <td>14557</td>\n",
       "      <td>1353</td>\n",
       "      <td>8.5%</td>\n",
       "    </tr>\n",
       "    <tr>\n",
       "      <th>A</th>\n",
       "      <td>23</td>\n",
       "      <td>2</td>\n",
       "      <td>8.0%</td>\n",
       "    </tr>\n",
       "    <tr>\n",
       "      <th>B</th>\n",
       "      <td>4660</td>\n",
       "      <td>354</td>\n",
       "      <td>7.1%</td>\n",
       "    </tr>\n",
       "    <tr>\n",
       "      <th>D</th>\n",
       "      <td>328</td>\n",
       "      <td>21</td>\n",
       "      <td>6.0%</td>\n",
       "    </tr>\n",
       "  </tbody>\n",
       "</table>\n",
       "</div>"
      ],
      "text/plain": [
       "                       no_debt  debt number_of_debtors\n",
       "total_income_category                                 \n",
       "E                           20     2              9.1%\n",
       "C                        14557  1353              8.5%\n",
       "A                           23     2              8.0%\n",
       "B                         4660   354              7.1%\n",
       "D                          328    21              6.0%"
      ]
     },
     "execution_count": 60,
     "metadata": {},
     "output_type": "execute_result"
    }
   ],
   "source": [
    "debt_total_income = data.pivot_table(index='total_income_category', columns='debt', values='gender', aggfunc='count')\n",
    "debt_total_income.columns = ['no_debt', 'debt']\n",
    "debt_total_income['number_of_debtors'] = debt_total_income['debt'] / (debt_total_income['debt'] + debt_total_income['no_debt'])\n",
    "debt_total_income['number_of_debtors'] = debt_total_income['number_of_debtors'].map('{:.1%}'.format)\n",
    "debt_total_income.sort_values(by='number_of_debtors', ascending=False)"
   ]
  },
  {
   "cell_type": "markdown",
   "id": "cc98f19e",
   "metadata": {},
   "source": [
    "**Conclusion: there is a direct relationship between the number of people in debt and their income level.** The more a person earns, the less likely they are to have financial difficulties."
   ]
  },
  {
   "cell_type": "markdown",
   "id": "b1736e28",
   "metadata": {},
   "source": [
    "### **5.4 How do the different objectives of the loan affect its repayment on time?**"
   ]
  },
  {
   "cell_type": "markdown",
   "id": "e2e888a9",
   "metadata": {},
   "source": [
    "**Create a pivot table**"
   ]
  },
  {
   "cell_type": "code",
   "execution_count": 61,
   "id": "4f57e111",
   "metadata": {},
   "outputs": [
    {
     "data": {
      "text/html": [
       "<div>\n",
       "<style scoped>\n",
       "    .dataframe tbody tr th:only-of-type {\n",
       "        vertical-align: middle;\n",
       "    }\n",
       "\n",
       "    .dataframe tbody tr th {\n",
       "        vertical-align: top;\n",
       "    }\n",
       "\n",
       "    .dataframe thead th {\n",
       "        text-align: right;\n",
       "    }\n",
       "</style>\n",
       "<table border=\"1\" class=\"dataframe\">\n",
       "  <thead>\n",
       "    <tr style=\"text-align: right;\">\n",
       "      <th></th>\n",
       "      <th>no_debt</th>\n",
       "      <th>debt</th>\n",
       "      <th>share_of_debtors</th>\n",
       "    </tr>\n",
       "    <tr>\n",
       "      <th>purpose_category</th>\n",
       "      <th></th>\n",
       "      <th></th>\n",
       "      <th></th>\n",
       "    </tr>\n",
       "  </thead>\n",
       "  <tbody>\n",
       "    <tr>\n",
       "      <th>car</th>\n",
       "      <td>3879</td>\n",
       "      <td>400</td>\n",
       "      <td>9.3%</td>\n",
       "    </tr>\n",
       "    <tr>\n",
       "      <th>education</th>\n",
       "      <td>3619</td>\n",
       "      <td>369</td>\n",
       "      <td>9.3%</td>\n",
       "    </tr>\n",
       "    <tr>\n",
       "      <th>wedding</th>\n",
       "      <td>2122</td>\n",
       "      <td>183</td>\n",
       "      <td>7.9%</td>\n",
       "    </tr>\n",
       "    <tr>\n",
       "      <th>real estate</th>\n",
       "      <td>9381</td>\n",
       "      <td>739</td>\n",
       "      <td>7.3%</td>\n",
       "    </tr>\n",
       "  </tbody>\n",
       "</table>\n",
       "</div>"
      ],
      "text/plain": [
       "                  no_debt  debt share_of_debtors\n",
       "purpose_category                                \n",
       "car                  3879   400             9.3%\n",
       "education            3619   369             9.3%\n",
       "wedding              2122   183             7.9%\n",
       "real estate          9381   739             7.3%"
      ]
     },
     "execution_count": 61,
     "metadata": {},
     "output_type": "execute_result"
    }
   ],
   "source": [
    "debt_purpose_category = data.pivot_table(index='purpose_category', columns='debt', values='gender', aggfunc='count')\n",
    "debt_purpose_category.columns = ['no_debt', 'debt']\n",
    "debt_purpose_category['share_of_debtors'] = debt_purpose_category['debt'] / (debt_purpose_category['debt'] + debt_purpose_category['no_debt'])\n",
    "debt_purpose_category['share_of_debtors'] = debt_purpose_category['share_of_debtors'].map('{:.1%}'.format)\n",
    "debt_purpose_category.sort_values(by='share_of_debtors', ascending=False)"
   ]
  },
  {
   "cell_type": "markdown",
   "id": "53e5541f",
   "metadata": {},
   "source": [
    "**Conclusion: Citizens who take out loans for education and car operations are more at risk of becoming debtors.** These two categories have the same percentage of debtors (9.3%). Citizens who take out a loan for real estate transactions are more responsible for its repayment."
   ]
  },
  {
   "cell_type": "markdown",
   "id": "dd46e248",
   "metadata": {},
   "source": [
    "## **6. General conclusion**"
   ]
  },
  {
   "cell_type": "markdown",
   "id": "36e8e4de",
   "metadata": {},
   "source": [
    "* Having children increases the likelihood of debt\n",
    "* Unmarried people and those in civil partnerships are more at risk of becoming debtors\n",
    "* The less a person earns, the more likely they are to incur debt\n",
    "* Citizens who take out loans for education and car operations are more at risk of becoming debtors"
   ]
  }
 ],
 "metadata": {
  "kernelspec": {
   "display_name": "Python 3",
   "language": "python",
   "name": "python3"
  },
  "language_info": {
   "codemirror_mode": {
    "name": "ipython",
    "version": 3
   },
   "file_extension": ".py",
   "mimetype": "text/x-python",
   "name": "python",
   "nbconvert_exporter": "python",
   "pygments_lexer": "ipython3",
   "version": "3.11.9"
  }
 },
 "nbformat": 4,
 "nbformat_minor": 5
}
